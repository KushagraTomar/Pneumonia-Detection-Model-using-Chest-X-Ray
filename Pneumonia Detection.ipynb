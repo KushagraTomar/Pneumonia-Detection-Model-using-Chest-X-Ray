{
 "cells": [
  {
   "cell_type": "code",
   "execution_count": 1,
   "id": "1da43c1c",
   "metadata": {},
   "outputs": [
    {
     "name": "stdout",
     "output_type": "stream",
     "text": [
      "Requirement already satisfied: gradio in c:\\users\\kushagra tomar\\anaconda3\\lib\\site-packages (3.1.4)\n",
      "Requirement already satisfied: Jinja2 in c:\\users\\kushagra tomar\\anaconda3\\lib\\site-packages (from gradio) (2.11.3)\n",
      "Requirement already satisfied: pydantic in c:\\users\\kushagra tomar\\anaconda3\\lib\\site-packages (from gradio) (1.9.1)\n",
      "Requirement already satisfied: matplotlib in c:\\users\\kushagra tomar\\anaconda3\\lib\\site-packages (from gradio) (3.4.3)\n",
      "Requirement already satisfied: paramiko in c:\\users\\kushagra tomar\\anaconda3\\lib\\site-packages (from gradio) (2.7.2)\n",
      "Requirement already satisfied: pydub in c:\\users\\kushagra tomar\\anaconda3\\lib\\site-packages (from gradio) (0.25.1)\n",
      "Requirement already satisfied: uvicorn in c:\\users\\kushagra tomar\\anaconda3\\lib\\site-packages (from gradio) (0.18.2)\n",
      "Requirement already satisfied: httpx in c:\\users\\kushagra tomar\\anaconda3\\lib\\site-packages (from gradio) (0.23.0)\n",
      "Requirement already satisfied: ffmpy in c:\\users\\kushagra tomar\\anaconda3\\lib\\site-packages (from gradio) (0.3.0)\n",
      "Requirement already satisfied: aiohttp in c:\\users\\kushagra tomar\\anaconda3\\lib\\site-packages (from gradio) (3.8.1)\n",
      "Requirement already satisfied: pycryptodome in c:\\users\\kushagra tomar\\anaconda3\\lib\\site-packages (from gradio) (3.15.0)\n",
      "Requirement already satisfied: orjson in c:\\users\\kushagra tomar\\anaconda3\\lib\\site-packages (from gradio) (3.7.11)\n",
      "Requirement already satisfied: analytics-python in c:\\users\\kushagra tomar\\anaconda3\\lib\\site-packages (from gradio) (1.4.0)\n",
      "Requirement already satisfied: markdown-it-py[linkify,plugins] in c:\\users\\kushagra tomar\\anaconda3\\lib\\site-packages (from gradio) (2.1.0)\n",
      "Requirement already satisfied: pillow in c:\\users\\kushagra tomar\\anaconda3\\lib\\site-packages (from gradio) (8.4.0)\n",
      "Requirement already satisfied: h11<0.13,>=0.11 in c:\\users\\kushagra tomar\\anaconda3\\lib\\site-packages (from gradio) (0.12.0)\n",
      "Requirement already satisfied: fsspec in c:\\users\\kushagra tomar\\anaconda3\\lib\\site-packages (from gradio) (2021.10.1)\n",
      "Requirement already satisfied: fastapi in c:\\users\\kushagra tomar\\anaconda3\\lib\\site-packages (from gradio) (0.79.0)\n",
      "Requirement already satisfied: numpy in c:\\users\\kushagra tomar\\anaconda3\\lib\\site-packages (from gradio) (1.20.3)\n",
      "Requirement already satisfied: python-multipart in c:\\users\\kushagra tomar\\anaconda3\\lib\\site-packages (from gradio) (0.0.5)\n",
      "Requirement already satisfied: requests in c:\\users\\kushagra tomar\\anaconda3\\lib\\site-packages (from gradio) (2.26.0)\n",
      "Requirement already satisfied: pandas in c:\\users\\kushagra tomar\\anaconda3\\lib\\site-packages (from gradio) (1.3.4)\n",
      "Requirement already satisfied: multidict<7.0,>=4.5 in c:\\users\\kushagra tomar\\anaconda3\\lib\\site-packages (from aiohttp->gradio) (6.0.2)\n",
      "Requirement already satisfied: attrs>=17.3.0 in c:\\users\\kushagra tomar\\anaconda3\\lib\\site-packages (from aiohttp->gradio) (21.2.0)\n",
      "Requirement already satisfied: frozenlist>=1.1.1 in c:\\users\\kushagra tomar\\anaconda3\\lib\\site-packages (from aiohttp->gradio) (1.3.1)\n",
      "Requirement already satisfied: yarl<2.0,>=1.0 in c:\\users\\kushagra tomar\\anaconda3\\lib\\site-packages (from aiohttp->gradio) (1.8.1)\n",
      "Requirement already satisfied: charset-normalizer<3.0,>=2.0 in c:\\users\\kushagra tomar\\anaconda3\\lib\\site-packages (from aiohttp->gradio) (2.0.4)\n",
      "Requirement already satisfied: aiosignal>=1.1.2 in c:\\users\\kushagra tomar\\anaconda3\\lib\\site-packages (from aiohttp->gradio) (1.2.0)\n",
      "Requirement already satisfied: async-timeout<5.0,>=4.0.0a3 in c:\\users\\kushagra tomar\\anaconda3\\lib\\site-packages (from aiohttp->gradio) (4.0.2)\n",
      "Requirement already satisfied: idna>=2.0 in c:\\users\\kushagra tomar\\anaconda3\\lib\\site-packages (from yarl<2.0,>=1.0->aiohttp->gradio) (3.2)\n",
      "Requirement already satisfied: monotonic>=1.5 in c:\\users\\kushagra tomar\\anaconda3\\lib\\site-packages (from analytics-python->gradio) (1.6)\n",
      "Requirement already satisfied: python-dateutil>2.1 in c:\\users\\kushagra tomar\\anaconda3\\lib\\site-packages (from analytics-python->gradio) (2.8.2)\n",
      "Requirement already satisfied: backoff==1.10.0 in c:\\users\\kushagra tomar\\anaconda3\\lib\\site-packages (from analytics-python->gradio) (1.10.0)\n",
      "Requirement already satisfied: six>=1.5 in c:\\users\\kushagra tomar\\anaconda3\\lib\\site-packages (from analytics-python->gradio) (1.16.0)\n",
      "Requirement already satisfied: urllib3<1.27,>=1.21.1 in c:\\users\\kushagra tomar\\anaconda3\\lib\\site-packages (from requests->gradio) (1.26.7)\n",
      "Requirement already satisfied: certifi>=2017.4.17 in c:\\users\\kushagra tomar\\anaconda3\\lib\\site-packages (from requests->gradio) (2021.10.8)\n",
      "Requirement already satisfied: starlette==0.19.1 in c:\\users\\kushagra tomar\\anaconda3\\lib\\site-packages (from fastapi->gradio) (0.19.1)\n",
      "Requirement already satisfied: anyio<5,>=3.4.0 in c:\\users\\kushagra tomar\\anaconda3\\lib\\site-packages (from starlette==0.19.1->fastapi->gradio) (3.6.1)\n",
      "Requirement already satisfied: typing-extensions>=3.10.0 in c:\\users\\kushagra tomar\\anaconda3\\lib\\site-packages (from starlette==0.19.1->fastapi->gradio) (3.10.0.2)\n",
      "Requirement already satisfied: sniffio>=1.1 in c:\\users\\kushagra tomar\\anaconda3\\lib\\site-packages (from anyio<5,>=3.4.0->starlette==0.19.1->fastapi->gradio) (1.2.0)\n",
      "Requirement already satisfied: httpcore<0.16.0,>=0.15.0 in c:\\users\\kushagra tomar\\anaconda3\\lib\\site-packages (from httpx->gradio) (0.15.0)\n",
      "Requirement already satisfied: rfc3986[idna2008]<2,>=1.3 in c:\\users\\kushagra tomar\\anaconda3\\lib\\site-packages (from httpx->gradio) (1.5.0)\n",
      "Requirement already satisfied: MarkupSafe>=0.23 in c:\\users\\kushagra tomar\\anaconda3\\lib\\site-packages (from Jinja2->gradio) (1.1.1)\n",
      "Requirement already satisfied: mdurl~=0.1 in c:\\users\\kushagra tomar\\anaconda3\\lib\\site-packages (from markdown-it-py[linkify,plugins]->gradio) (0.1.1)\n",
      "Requirement already satisfied: linkify-it-py~=1.0 in c:\\users\\kushagra tomar\\anaconda3\\lib\\site-packages (from markdown-it-py[linkify,plugins]->gradio) (1.0.3)\n",
      "Requirement already satisfied: mdit-py-plugins in c:\\users\\kushagra tomar\\anaconda3\\lib\\site-packages (from markdown-it-py[linkify,plugins]->gradio) (0.3.0)\n",
      "Requirement already satisfied: uc-micro-py in c:\\users\\kushagra tomar\\anaconda3\\lib\\site-packages (from linkify-it-py~=1.0->markdown-it-py[linkify,plugins]->gradio) (1.0.1)\n",
      "Requirement already satisfied: cycler>=0.10 in c:\\users\\kushagra tomar\\anaconda3\\lib\\site-packages (from matplotlib->gradio) (0.10.0)\n",
      "Requirement already satisfied: pyparsing>=2.2.1 in c:\\users\\kushagra tomar\\anaconda3\\lib\\site-packages (from matplotlib->gradio) (3.0.4)\n",
      "Requirement already satisfied: kiwisolver>=1.0.1 in c:\\users\\kushagra tomar\\anaconda3\\lib\\site-packages (from matplotlib->gradio) (1.3.1)\n",
      "Requirement already satisfied: pytz>=2017.3 in c:\\users\\kushagra tomar\\anaconda3\\lib\\site-packages (from pandas->gradio) (2021.3)\n",
      "Requirement already satisfied: pynacl>=1.0.1 in c:\\users\\kushagra tomar\\anaconda3\\lib\\site-packages (from paramiko->gradio) (1.4.0)\n",
      "Requirement already satisfied: bcrypt>=3.1.3 in c:\\users\\kushagra tomar\\anaconda3\\lib\\site-packages (from paramiko->gradio) (3.2.0)\n",
      "Requirement already satisfied: cryptography>=2.5 in c:\\users\\kushagra tomar\\anaconda3\\lib\\site-packages (from paramiko->gradio) (3.4.8)\n",
      "Requirement already satisfied: cffi>=1.1 in c:\\users\\kushagra tomar\\anaconda3\\lib\\site-packages (from bcrypt>=3.1.3->paramiko->gradio) (1.14.6)\n",
      "Requirement already satisfied: pycparser in c:\\users\\kushagra tomar\\anaconda3\\lib\\site-packages (from cffi>=1.1->bcrypt>=3.1.3->paramiko->gradio) (2.20)\n",
      "Requirement already satisfied: click>=7.0 in c:\\users\\kushagra tomar\\anaconda3\\lib\\site-packages (from uvicorn->gradio) (8.0.3)\n",
      "Requirement already satisfied: colorama in c:\\users\\kushagra tomar\\anaconda3\\lib\\site-packages (from click>=7.0->uvicorn->gradio) (0.4.4)\n"
     ]
    }
   ],
   "source": [
    "import warnings\n",
    "warnings.filterwarnings('ignore')\n",
    "\n",
    "!pip install gradio"
   ]
  },
  {
   "cell_type": "code",
   "execution_count": 2,
   "id": "6170f8e5",
   "metadata": {},
   "outputs": [],
   "source": [
    "from tensorflow import keras"
   ]
  },
  {
   "cell_type": "code",
   "execution_count": 3,
   "id": "f9bca184",
   "metadata": {},
   "outputs": [],
   "source": [
    "from keras.layers import Input, Lambda, Dense, Flatten"
   ]
  },
  {
   "cell_type": "code",
   "execution_count": 4,
   "id": "e45d9ce4",
   "metadata": {},
   "outputs": [],
   "source": [
    "from keras.models import Model\n",
    "from keras.applications.vgg16 import VGG16\n",
    "from keras.applications.vgg16 import preprocess_input\n",
    "from keras.preprocessing import image\n",
    "from keras.preprocessing.image import ImageDataGenerator\n",
    "from keras.models import Sequential\n",
    "from keras.models import load_model\n",
    "import numpy as np\n",
    "from glob import glob\n",
    "import matplotlib.pyplot as plt"
   ]
  },
  {
   "cell_type": "code",
   "execution_count": 5,
   "id": "2df985f3",
   "metadata": {},
   "outputs": [],
   "source": [
    "IMAGE_SIZE = [224, 224]\n",
    "\n",
    "train_path = 'Datasets/train'\n",
    "valid_path = 'Datasets/test'"
   ]
  },
  {
   "cell_type": "code",
   "execution_count": 6,
   "id": "b234cd1a",
   "metadata": {},
   "outputs": [],
   "source": [
    "vgg = VGG16(input_shape=IMAGE_SIZE + [3], weights='imagenet', include_top=False)"
   ]
  },
  {
   "cell_type": "code",
   "execution_count": 7,
   "id": "1e6f8693",
   "metadata": {},
   "outputs": [],
   "source": [
    "for layer in vgg.layers:\n",
    "    layer.trainable = False"
   ]
  },
  {
   "cell_type": "code",
   "execution_count": 8,
   "id": "c1d1ce36",
   "metadata": {},
   "outputs": [],
   "source": [
    "folders = glob('Datasets/train/*')\n",
    "x = Flatten()(vgg.output)"
   ]
  },
  {
   "cell_type": "code",
   "execution_count": 9,
   "id": "c01b473e",
   "metadata": {},
   "outputs": [
    {
     "name": "stdout",
     "output_type": "stream",
     "text": [
      "Model: \"model\"\n",
      "_________________________________________________________________\n",
      " Layer (type)                Output Shape              Param #   \n",
      "=================================================================\n",
      " input_1 (InputLayer)        [(None, 224, 224, 3)]     0         \n",
      "                                                                 \n",
      " block1_conv1 (Conv2D)       (None, 224, 224, 64)      1792      \n",
      "                                                                 \n",
      " block1_conv2 (Conv2D)       (None, 224, 224, 64)      36928     \n",
      "                                                                 \n",
      " block1_pool (MaxPooling2D)  (None, 112, 112, 64)      0         \n",
      "                                                                 \n",
      " block2_conv1 (Conv2D)       (None, 112, 112, 128)     73856     \n",
      "                                                                 \n",
      " block2_conv2 (Conv2D)       (None, 112, 112, 128)     147584    \n",
      "                                                                 \n",
      " block2_pool (MaxPooling2D)  (None, 56, 56, 128)       0         \n",
      "                                                                 \n",
      " block3_conv1 (Conv2D)       (None, 56, 56, 256)       295168    \n",
      "                                                                 \n",
      " block3_conv2 (Conv2D)       (None, 56, 56, 256)       590080    \n",
      "                                                                 \n",
      " block3_conv3 (Conv2D)       (None, 56, 56, 256)       590080    \n",
      "                                                                 \n",
      " block3_pool (MaxPooling2D)  (None, 28, 28, 256)       0         \n",
      "                                                                 \n",
      " block4_conv1 (Conv2D)       (None, 28, 28, 512)       1180160   \n",
      "                                                                 \n",
      " block4_conv2 (Conv2D)       (None, 28, 28, 512)       2359808   \n",
      "                                                                 \n",
      " block4_conv3 (Conv2D)       (None, 28, 28, 512)       2359808   \n",
      "                                                                 \n",
      " block4_pool (MaxPooling2D)  (None, 14, 14, 512)       0         \n",
      "                                                                 \n",
      " block5_conv1 (Conv2D)       (None, 14, 14, 512)       2359808   \n",
      "                                                                 \n",
      " block5_conv2 (Conv2D)       (None, 14, 14, 512)       2359808   \n",
      "                                                                 \n",
      " block5_conv3 (Conv2D)       (None, 14, 14, 512)       2359808   \n",
      "                                                                 \n",
      " block5_pool (MaxPooling2D)  (None, 7, 7, 512)         0         \n",
      "                                                                 \n",
      " flatten (Flatten)           (None, 25088)             0         \n",
      "                                                                 \n",
      " dense (Dense)               (None, 2)                 50178     \n",
      "                                                                 \n",
      "=================================================================\n",
      "Total params: 14,764,866\n",
      "Trainable params: 50,178\n",
      "Non-trainable params: 14,714,688\n",
      "_________________________________________________________________\n"
     ]
    }
   ],
   "source": [
    "prediction = Dense(len(folders), activation='softmax')(x)\n",
    "\n",
    "# create a model object\n",
    "model = Model(inputs=vgg.input, outputs=prediction)\n",
    "\n",
    "# view the structure of the model\n",
    "model.summary()"
   ]
  },
  {
   "cell_type": "code",
   "execution_count": 10,
   "id": "197d38a1",
   "metadata": {},
   "outputs": [],
   "source": [
    "model.compile(\n",
    "  loss='categorical_crossentropy',\n",
    "  optimizer='adam',\n",
    "  metrics=['accuracy']\n",
    ")"
   ]
  },
  {
   "cell_type": "code",
   "execution_count": 11,
   "id": "a95cbc54",
   "metadata": {},
   "outputs": [],
   "source": [
    "from keras.preprocessing.image import ImageDataGenerator"
   ]
  },
  {
   "cell_type": "code",
   "execution_count": 12,
   "id": "eb53e4ef",
   "metadata": {},
   "outputs": [
    {
     "name": "stdout",
     "output_type": "stream",
     "text": [
      "Found 5216 images belonging to 2 classes.\n",
      "Found 624 images belonging to 2 classes.\n"
     ]
    }
   ],
   "source": [
    "train_datagen = ImageDataGenerator(rescale = 1./255,\n",
    "                                   shear_range = 0.2,\n",
    "                                   zoom_range = 0.2,\n",
    "                                   horizontal_flip = True)\n",
    "\n",
    "test_datagen = ImageDataGenerator(rescale = 1./255)\n",
    "\n",
    "\n",
    "\n",
    "\n",
    "# Make sure you provide the same target size as initialied for the image size\n",
    "training_set = train_datagen.flow_from_directory('Datasets/train',\n",
    "                                                 target_size = (224, 224),\n",
    "                                                 batch_size = 10,\n",
    "                                                 class_mode = 'categorical')\n",
    "\n",
    "\n",
    "\n",
    "\n",
    "test_set = test_datagen.flow_from_directory('Datasets/test',\n",
    "                                            target_size = (224, 224),\n",
    "                                            batch_size = 10,\n",
    "                                            class_mode = 'categorical')"
   ]
  },
  {
   "cell_type": "code",
   "execution_count": 13,
   "id": "be8eb996",
   "metadata": {},
   "outputs": [
    {
     "name": "stdout",
     "output_type": "stream",
     "text": [
      "522/522 [==============================] - 812s 2s/step - loss: 0.1846 - accuracy: 0.9323 - val_loss: 0.5375 - val_accuracy: 0.8734\n"
     ]
    }
   ],
   "source": [
    "r = model.fit_generator(\n",
    "  training_set,\n",
    "  validation_data=test_set,\n",
    "  epochs=1,\n",
    "  steps_per_epoch=len(training_set),\n",
    "  validation_steps=len(test_set)\n",
    ")"
   ]
  },
  {
   "cell_type": "code",
   "execution_count": 14,
   "id": "0ef59bfd",
   "metadata": {},
   "outputs": [],
   "source": [
    "import tensorflow as tf\n",
    "from keras.models import load_model\n",
    "\n",
    "model.save('chest_xray.h5')"
   ]
  },
  {
   "cell_type": "code",
   "execution_count": 15,
   "id": "5d2be8c2",
   "metadata": {},
   "outputs": [],
   "source": [
    "model=load_model('chest_xray.h5')"
   ]
  },
  {
   "cell_type": "code",
   "execution_count": 16,
   "id": "5898015b",
   "metadata": {},
   "outputs": [],
   "source": [
    "def pneumoniaDetection(img):\n",
    "    x=tf.keras.utils.img_to_array(img)\n",
    "    x=np.expand_dims(x, axis=0)\n",
    "    img_data=preprocess_input(x)\n",
    "    classes=model.predict(img_data)\n",
    "    result=int(classes[0][0])\n",
    "    if result==0:\n",
    "        result = (\"Pneumonic\")\n",
    "    else:\n",
    "        result = (\"Normal\")\n",
    "    return result        "
   ]
  },
  {
   "cell_type": "code",
   "execution_count": 17,
   "id": "1c079c8e",
   "metadata": {},
   "outputs": [],
   "source": [
    "import gradio"
   ]
  },
  {
   "cell_type": "code",
   "execution_count": 18,
   "id": "b4b2a352",
   "metadata": {},
   "outputs": [],
   "source": [
    "img = gradio.inputs.Image(shape=(224,224))\n",
    "label = gradio.outputs.Label(num_top_classes=1)"
   ]
  },
  {
   "cell_type": "code",
   "execution_count": null,
   "id": "7e2dac11",
   "metadata": {},
   "outputs": [
    {
     "name": "stdout",
     "output_type": "stream",
     "text": [
      "Running on local URL:  http://127.0.0.1:7860/\n",
      "Running on public URL: https://29353.gradio.app\n",
      "\n",
      "This share link expires in 72 hours. For free permanent hosting, check out Spaces: https://huggingface.co/spaces\n"
     ]
    },
    {
     "data": {
      "text/html": [
       "<div><iframe src=\"https://29353.gradio.app\" width=\"900\" height=\"500\" allow=\"autoplay; camera; microphone;\" frameborder=\"0\" allowfullscreen></iframe></div>"
      ],
      "text/plain": [
       "<IPython.core.display.HTML object>"
      ]
     },
     "metadata": {},
     "output_type": "display_data"
    },
    {
     "name": "stdout",
     "output_type": "stream",
     "text": [
      "1/1 [==============================] - 0s 364ms/step\n",
      "1/1 [==============================] - 0s 123ms/step\n",
      "1/1 [==============================] - 0s 128ms/step\n",
      "1/1 [==============================] - 0s 132ms/step\n",
      "1/1 [==============================] - 0s 145ms/step\n",
      "1/1 [==============================] - 0s 132ms/step\n",
      "1/1 [==============================] - 0s 310ms/step\n",
      "1/1 [==============================] - 0s 257ms/step\n",
      "1/1 [==============================] - 0s 220ms/step\n"
     ]
    }
   ],
   "source": [
    "interface = gradio.Interface(fn = pneumoniaDetection,\n",
    "                       title='Pneumonia Detection using Chest X-Ray',\n",
    "                       inputs = img,\n",
    "                       outputs = label,\n",
    "                       interpretation = 'default')\n",
    "interface.launch(debug=True, share=True)"
   ]
  },
  {
   "cell_type": "code",
   "execution_count": null,
   "id": "8a9c6f14",
   "metadata": {},
   "outputs": [],
   "source": []
  }
 ],
 "metadata": {
  "kernelspec": {
   "display_name": "Python 3 (ipykernel)",
   "language": "python",
   "name": "python3"
  },
  "language_info": {
   "codemirror_mode": {
    "name": "ipython",
    "version": 3
   },
   "file_extension": ".py",
   "mimetype": "text/x-python",
   "name": "python",
   "nbconvert_exporter": "python",
   "pygments_lexer": "ipython3",
   "version": "3.9.7"
  }
 },
 "nbformat": 4,
 "nbformat_minor": 5
}
